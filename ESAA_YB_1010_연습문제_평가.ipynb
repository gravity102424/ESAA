{
  "nbformat": 4,
  "nbformat_minor": 0,
  "metadata": {
    "colab": {
      "provenance": [],
      "include_colab_link": true
    },
    "kernelspec": {
      "name": "python3",
      "display_name": "Python 3"
    },
    "language_info": {
      "name": "python"
    }
  },
  "cells": [
    {
      "cell_type": "markdown",
      "metadata": {
        "id": "view-in-github",
        "colab_type": "text"
      },
      "source": [
        "<a href=\"https://colab.research.google.com/github/gravity102424/ESAA/blob/main/ESAA_YB_1010_%EC%97%B0%EC%8A%B5%EB%AC%B8%EC%A0%9C_%ED%8F%89%EA%B0%80.ipynb\" target=\"_parent\"><img src=\"https://colab.research.google.com/assets/colab-badge.svg\" alt=\"Open In Colab\"/></a>"
      ]
    },
    {
      "cell_type": "code",
      "metadata": {
        "id": "4Zqc4O_BfWqZ",
        "colab": {
          "base_uri": "https://localhost:8080/"
        },
        "outputId": "79ac6aa9-4fae-408e-9d65-7de12c1231f5"
      },
      "source": [
        "# 모듈 및 데이터 로드\n",
        "from sklearn.datasets import load_breast_cancer\n",
        "from sklearn.linear_model import LogisticRegression\n",
        "\n",
        "data = load_breast_cancer()\n",
        "\n",
        "# x, y 데이터 생성\n",
        "X = data.data\n",
        "\n",
        "# 악성을 1, 양성을 0으로\n",
        "y = 1 - data.target\n",
        "\n",
        "# 특징으로 사용할 데이터를 평균으로 구분하는 10개 열로 축소\n",
        "X = X[:, :10]\n",
        "\n",
        "# 로지스틱 회귀 모델 생성\n",
        "model_lor = LogisticRegression(solver = 'lbfgs')\n",
        "model_lor.fit(X,y)\n",
        "y_pred = model_lor.predict(X)"
      ],
      "execution_count": 1,
      "outputs": [
        {
          "output_type": "stream",
          "name": "stderr",
          "text": [
            "/usr/local/lib/python3.12/dist-packages/sklearn/linear_model/_logistic.py:465: ConvergenceWarning: lbfgs failed to converge (status=1):\n",
            "STOP: TOTAL NO. OF ITERATIONS REACHED LIMIT.\n",
            "\n",
            "Increase the number of iterations (max_iter) or scale the data as shown in:\n",
            "    https://scikit-learn.org/stable/modules/preprocessing.html\n",
            "Please also refer to the documentation for alternative solver options:\n",
            "    https://scikit-learn.org/stable/modules/linear_model.html#logistic-regression\n",
            "  n_iter_i = _check_optimize_result(\n"
          ]
        }
      ]
    },
    {
      "cell_type": "markdown",
      "metadata": {
        "id": "faoAfc1ZgAcq"
      },
      "source": [
        "**오차 행렬(혼동 행렬) 생성**\n",
        "\n"
      ]
    },
    {
      "cell_type": "code",
      "metadata": {
        "id": "JdML8YM0gBtu",
        "colab": {
          "base_uri": "https://localhost:8080/"
        },
        "outputId": "7652c212-fa37-4708-8821-0af59eba784d"
      },
      "source": [
        "# 종속 변수와 예측 결과로 혼동 행렬 생성\n",
        "from sklearn.metrics import confusion_matrix\n",
        "\n",
        "# 종속변수(y)와 예측값(y_pred)으로 혼동 행렬 생성\n",
        "cm = confusion_matrix(y, y_pred)\n",
        "\n",
        "print('Confusion Matrix:\\n', cm)"
      ],
      "execution_count": 2,
      "outputs": [
        {
          "output_type": "stream",
          "name": "stdout",
          "text": [
            "Confusion Matrix:\n",
            " [[337  20]\n",
            " [ 30 182]]\n"
          ]
        }
      ]
    },
    {
      "cell_type": "markdown",
      "metadata": {
        "id": "xbcK3rT-gFRk"
      },
      "source": [
        "**정확도의 개념을 설명하고, 정확도를 구해 해당 값을 통해 알 수 있는 점을 쓰시오.**"
      ]
    },
    {
      "cell_type": "code",
      "source": [
        "from sklearn.metrics import accuracy_score\n",
        "\n",
        "# 정확도\n",
        "accuracy_score(y, y_pred)\n"
      ],
      "metadata": {
        "colab": {
          "base_uri": "https://localhost:8080/"
        },
        "id": "dbW2wtqbnQ97",
        "outputId": "79c509a7-abdd-4b6e-9192-974920563497"
      },
      "execution_count": 12,
      "outputs": [
        {
          "output_type": "execute_result",
          "data": {
            "text/plain": [
              "0.9121265377855887"
            ]
          },
          "metadata": {},
          "execution_count": 12
        }
      ]
    },
    {
      "cell_type": "markdown",
      "source": [
        "Accuracy=TP+TN/FP+FN+TP+TN\n",
        "\n",
        "데이터 불균형이 심할 경우 주의 필요(정확도만 높아도 성능이 좋다고 할 수 없음)"
      ],
      "metadata": {
        "id": "8jrmLqrxjHc-"
      }
    },
    {
      "cell_type": "markdown",
      "metadata": {
        "id": "UYnVZS9igNNf"
      },
      "source": [
        "**정밀도의 개념을 설명하고, 정확도를 구해 해당 값을 통해 알 수 있는 점을 쓰시오.**"
      ]
    },
    {
      "cell_type": "code",
      "source": [
        "from sklearn.metrics import precision_score\n",
        "precision_score(y, y_pred)"
      ],
      "metadata": {
        "colab": {
          "base_uri": "https://localhost:8080/"
        },
        "id": "NFdzTKhAniF3",
        "outputId": "80e597e3-b3f6-4927-baa1-76ca9fb31053"
      },
      "execution_count": 13,
      "outputs": [
        {
          "output_type": "execute_result",
          "data": {
            "text/plain": [
              "0.900990099009901"
            ]
          },
          "metadata": {},
          "execution_count": 13
        }
      ]
    },
    {
      "cell_type": "markdown",
      "source": [
        "Precision=TP/FP+TP\n",
        "\n",
        "정밀도가 높다는 것은, \"모델이 양성(1) 이라고 예측한 경우 틀리는 경우가 적다”는 뜻이다."
      ],
      "metadata": {
        "id": "UVaxcmXHj4tE"
      }
    },
    {
      "cell_type": "markdown",
      "metadata": {
        "id": "2-MBquNJZOM4"
      },
      "source": [
        "**재현율의 개념을 설명하고, 정확도를 구해 해당 값을 통해 알 수 있는 점을 쓰시오.**"
      ]
    },
    {
      "cell_type": "code",
      "source": [
        "from sklearn.metrics import recall_score\n",
        "recall_score(y, y_pred)"
      ],
      "metadata": {
        "colab": {
          "base_uri": "https://localhost:8080/"
        },
        "id": "_ZG42LuUnsZ7",
        "outputId": "0851887b-6dc3-490d-9b77-9f2d317aaad6"
      },
      "execution_count": 14,
      "outputs": [
        {
          "output_type": "execute_result",
          "data": {
            "text/plain": [
              "0.8584905660377359"
            ]
          },
          "metadata": {},
          "execution_count": 14
        }
      ]
    },
    {
      "cell_type": "markdown",
      "source": [
        "Recall=TP/FN+TP\n",
        "\n",
        "재현율이 높다 = 놓친 양성(FN)이 적다 → 민감도가 높음\n",
        "즉, \"실제 양성을 얼마나 잘 놓치지 않고 잡는가”를 보여준다."
      ],
      "metadata": {
        "id": "gimEqJj-j399"
      }
    },
    {
      "cell_type": "markdown",
      "metadata": {
        "id": "Cw1p3yjagUCH"
      },
      "source": [
        "**F1 score의 개념을 설명하고, 정확도를 구해 해당 값을 통해 알 수 있는 점을 쓰시오.**"
      ]
    },
    {
      "cell_type": "code",
      "source": [
        "from sklearn.metrics import f1_score\n",
        "f1_score(y, y_pred)"
      ],
      "metadata": {
        "colab": {
          "base_uri": "https://localhost:8080/"
        },
        "id": "DpgEtPW0nzlJ",
        "outputId": "0a62d253-ca7c-4abb-9824-e31e30ae66d3"
      },
      "execution_count": 15,
      "outputs": [
        {
          "output_type": "execute_result",
          "data": {
            "text/plain": [
              "0.8792270531400966"
            ]
          },
          "metadata": {},
          "execution_count": 15
        }
      ]
    },
    {
      "cell_type": "markdown",
      "source": [
        "F1 Score=2×(Precision+Recall)/(Precision×Recall)\n",
        "\n",
        "정밀도(Precision)와 재현율(Recall)은 서로 반비례 관계에 있다.(예: FP를 줄이면 FN이 늘어남)\n",
        "그래서 두 지표를 균형 있게 평가하는 수단으로 F1 score를 사용한다."
      ],
      "metadata": {
        "id": "lePatCh2kT0R"
      }
    },
    {
      "cell_type": "markdown",
      "metadata": {
        "id": "fzwIFsKOW5a1"
      },
      "source": [
        "**예측 확률(pred_proba) : 0으로 예측할 확률이 0.1보다 크면 y_pred2 에 넣는다 가정.**"
      ]
    },
    {
      "cell_type": "code",
      "metadata": {
        "id": "nw9dxOiPW40l"
      },
      "source": [
        "from sklearn.preprocessing import Binarizer\n",
        "# 예측 확률 계산\n",
        "y_proba = model_lor.predict_proba(X)\n",
        "\n",
        "# 0으로 예측할 확률이 0.1보다 큰 경우 → 0으로 예측\n",
        "y_pred2 = (y_proba[:, 0] <= 0.1).astype(int)"
      ],
      "execution_count": 5,
      "outputs": []
    },
    {
      "cell_type": "code",
      "metadata": {
        "id": "Y-WrHrICYFB1",
        "colab": {
          "base_uri": "https://localhost:8080/"
        },
        "outputId": "9458523e-322e-4128-debc-c92f436b8a57"
      },
      "source": [
        "# y과 y_pred2의 혼동행렬, 정확도, 정밀도, 재현율, f1 score 구하기\n",
        "from sklearn.metrics import confusion_matrix, accuracy_score, precision_score, recall_score, f1_score\n",
        "\n",
        "# 혼동 행렬\n",
        "cm = confusion_matrix(y, y_pred2)\n",
        "\n",
        "# 정확도\n",
        "acc = accuracy_score(y, y_pred2)\n",
        "\n",
        "# 정밀도\n",
        "prec = precision_score(y, y_pred2)\n",
        "\n",
        "# 재현율\n",
        "rec = recall_score(y, y_pred2)\n",
        "\n",
        "# F1 점수\n",
        "f1 = f1_score(y, y_pred2)\n",
        "\n",
        "# 결과 출력\n",
        "print('📊 혼동 행렬 (Confusion Matrix):\\n', cm)\n",
        "print(f'\\n✅ 정확도(Accuracy): {acc:.4f}')\n",
        "print(f'✅ 정밀도(Precision): {prec:.4f}')\n",
        "print(f'✅ 재현율(Recall): {rec:.4f}')\n",
        "print(f'✅ F1 Score: {f1:.4f}')\n"
      ],
      "execution_count": 6,
      "outputs": [
        {
          "output_type": "stream",
          "name": "stdout",
          "text": [
            "📊 혼동 행렬 (Confusion Matrix):\n",
            " [[356   1]\n",
            " [ 73 139]]\n",
            "\n",
            "✅ 정확도(Accuracy): 0.8699\n",
            "✅ 정밀도(Precision): 0.9929\n",
            "✅ 재현율(Recall): 0.6557\n",
            "✅ F1 Score: 0.7898\n"
          ]
        }
      ]
    },
    {
      "cell_type": "markdown",
      "metadata": {
        "id": "itgf_OjsjU-R"
      },
      "source": [
        "**ROC 곡선 시각화**"
      ]
    },
    {
      "cell_type": "code",
      "metadata": {
        "id": "DW75xBokjXKy"
      },
      "source": [
        "from sklearn.metrics import roc_curve\n",
        "y_proba = model_lor.predict_proba(X)[:, 1]"
      ],
      "execution_count": 7,
      "outputs": []
    },
    {
      "cell_type": "code",
      "metadata": {
        "id": "CSJ69SGJVh7m",
        "colab": {
          "base_uri": "https://localhost:8080/",
          "height": 487
        },
        "outputId": "5ab7e47a-e394-4c6c-9459-f26ffdd33fd5"
      },
      "source": [
        "import matplotlib.pyplot as plt\n",
        "fpr, tpr, thresholds = roc_curve(y, y_proba)\n",
        "plt.figure(figsize=(6,5))\n",
        "plt.plot(fpr, tpr, color='blue', label=f'ROC Curve (AUC = {auc:.3f})')\n",
        "plt.plot([0,1], [0,1], color='red', linestyle='--', label='Random Guess')\n",
        "plt.title('ROC Curve - Logistic Regression')\n",
        "plt.xlabel('False Positive Rate (1 - Specificity)')\n",
        "plt.ylabel('True Positive Rate (Recall)')\n",
        "plt.legend()\n",
        "plt.grid(True)\n",
        "plt.show()"
      ],
      "execution_count": 11,
      "outputs": [
        {
          "output_type": "display_data",
          "data": {
            "text/plain": [
              "<Figure size 600x500 with 1 Axes>"
            ],
            "image/png": "[encoded data removed]"
          },
          "metadata": {}
        }
      ]
    },
    {
      "cell_type": "markdown",
      "metadata": {
        "id": "fL4as0YsWYD7"
      },
      "source": [
        "**ROC AUC 값을 구하고 해당 값을 통해 알 수 있는 점을 쓰시오.**"
      ]
    },
    {
      "cell_type": "code",
      "metadata": {
        "id": "-SEElVZTWaVp",
        "colab": {
          "base_uri": "https://localhost:8080/"
        },
        "outputId": "aa64f90d-f4b9-4a12-e6d4-fda6ab07f37a"
      },
      "source": [
        "from sklearn.metrics import roc_auc_score\n",
        "\n",
        "# 예측 확률(클래스 1일 확률)\n",
        "y_proba = model_lor.predict_proba(X)[:, 1]\n",
        "\n",
        "# ROC AUC 계산\n",
        "auc = roc_auc_score(y, y_proba)\n",
        "\n",
        "print('ROC AUC 값 :', auc)"
      ],
      "execution_count": 10,
      "outputs": [
        {
          "output_type": "stream",
          "name": "stdout",
          "text": [
            "ROC AUC 값 : 0.974076423022039\n"
          ]
        }
      ]
    },
    {
      "cell_type": "markdown",
      "source": [
        "AUC (Area Under the Curve)는 ROC 곡선(재현율 vs 1-특이도) 아래의 면적을 의미한다.\n",
        "\n",
        "즉, 모델이 임의의 한 쌍(하나는 양성, 하나는 음성)을 선택했을 때,\n",
        "양성 샘플을 더 높은 확률로 예측할 확률을 나타낸다."
      ],
      "metadata": {
        "id": "0mdm3MynhwZ0"
      }
    }
  ]
}