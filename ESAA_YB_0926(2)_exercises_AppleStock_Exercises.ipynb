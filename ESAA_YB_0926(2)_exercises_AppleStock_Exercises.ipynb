{
  "nbformat": 4,
  "nbformat_minor": 0,
  "metadata": {
    "anaconda-cloud": {},
    "kernelspec": {
      "display_name": "Python [default]",
      "language": "python",
      "name": "python2"
    },
    "language_info": {
      "codemirror_mode": {
        "name": "ipython",
        "version": 2
      },
      "file_extension": ".py",
      "mimetype": "text/x-python",
      "name": "python",
      "nbconvert_exporter": "python",
      "pygments_lexer": "ipython2",
      "version": "2.7.12"
    },
    "colab": {
      "provenance": [],
      "include_colab_link": true
    }
  },
  "cells": [
    {
      "cell_type": "markdown",
      "metadata": {
        "id": "view-in-github",
        "colab_type": "text"
      },
      "source": [
        "<a href=\"https://colab.research.google.com/github/gravity102424/ESAA/blob/main/ESAA_YB_0926(2)_exercises_AppleStock_Exercises.ipynb\" target=\"_parent\"><img src=\"https://colab.research.google.com/assets/colab-badge.svg\" alt=\"Open In Colab\"/></a>"
      ]
    },
    {
      "cell_type": "markdown",
      "metadata": {
        "id": "on6xgUECVXIz"
      },
      "source": [
        "# Apple Stock"
      ]
    },
    {
      "cell_type": "markdown",
      "metadata": {
        "id": "yRb05F3RVXJI"
      },
      "source": [
        "### Introduction:\n",
        "\n",
        "We are going to use Apple's stock price.\n",
        "\n",
        "\n",
        "### Step 1. Import the necessary libraries"
      ]
    },
    {
      "cell_type": "code",
      "metadata": {
        "id": "4g8N0RkRVXJN"
      },
      "source": [
        "import pandas as pd\n",
        "import numpy as np"
      ],
      "execution_count": 10,
      "outputs": []
    },
    {
      "cell_type": "markdown",
      "metadata": {
        "id": "PadQE1mnVXJS"
      },
      "source": [
        "### Step 2. Import the dataset from this [address](https://raw.githubusercontent.com/guipsamora/pandas_exercises/master/09_Time_Series/Apple_Stock/appl_1980_2014.csv)"
      ]
    },
    {
      "cell_type": "code",
      "metadata": {
        "collapsed": true,
        "id": "jFE0126tVXJU"
      },
      "source": [
        "data = pd.read_csv('https://raw.githubusercontent.com/guipsamora/pandas_exercises/master/09_Time_Series/Apple_Stock/appl_1980_2014.csv',sep=',')"
      ],
      "execution_count": 37,
      "outputs": []
    },
    {
      "cell_type": "markdown",
      "metadata": {
        "id": "0szUfJRXVXJY"
      },
      "source": [
        "### Step 3. Assign it to a variable apple"
      ]
    },
    {
      "cell_type": "code",
      "metadata": {
        "id": "-OGkJEZNVXJa"
      },
      "source": [
        "apple = data"
      ],
      "execution_count": 38,
      "outputs": []
    },
    {
      "cell_type": "markdown",
      "metadata": {
        "id": "TBxUymvFVXJc"
      },
      "source": [
        "### Step 4.  Check out the type of the columns"
      ]
    },
    {
      "cell_type": "code",
      "metadata": {
        "id": "hh_Qct_DVXJg",
        "colab": {
          "base_uri": "https://localhost:8080/"
        },
        "outputId": "81ec9916-2e4b-405f-f12d-612e3021d4f2"
      },
      "source": [
        "print(apple.dtypes)"
      ],
      "execution_count": 39,
      "outputs": [
        {
          "output_type": "stream",
          "name": "stdout",
          "text": [
            "Date          object\n",
            "Open         float64\n",
            "High         float64\n",
            "Low          float64\n",
            "Close        float64\n",
            "Volume         int64\n",
            "Adj Close    float64\n",
            "dtype: object\n"
          ]
        }
      ]
    },
    {
      "cell_type": "markdown",
      "metadata": {
        "id": "gSo835mZVXJj"
      },
      "source": [
        "### Step 5. Transform the Date column as a datetime type"
      ]
    },
    {
      "cell_type": "code",
      "metadata": {
        "id": "TZHt_GTCVXJm",
        "colab": {
          "base_uri": "https://localhost:8080/"
        },
        "outputId": "a3d22996-df62-4254-d9b3-cce1061e37f7"
      },
      "source": [
        "apple['Date'] = pd.to_datetime(apple['Date'])\n",
        "print(apple.dtypes)"
      ],
      "execution_count": 40,
      "outputs": [
        {
          "output_type": "stream",
          "name": "stdout",
          "text": [
            "Date         datetime64[ns]\n",
            "Open                float64\n",
            "High                float64\n",
            "Low                 float64\n",
            "Close               float64\n",
            "Volume                int64\n",
            "Adj Close           float64\n",
            "dtype: object\n"
          ]
        }
      ]
    },
    {
      "cell_type": "markdown",
      "metadata": {
        "id": "KnpuOPx1VXJn"
      },
      "source": [
        "### Step 6.  Set the date as the index"
      ]
    },
    {
      "cell_type": "code",
      "metadata": {
        "id": "0w3vVnNTVXJp"
      },
      "source": [
        "apple.set_index('Date', inplace=True)"
      ],
      "execution_count": 43,
      "outputs": []
    },
    {
      "cell_type": "markdown",
      "metadata": {
        "id": "gTAynxAuVXJq"
      },
      "source": [
        "### Step 7.  Is there any duplicate dates?"
      ]
    },
    {
      "cell_type": "code",
      "metadata": {
        "id": "X7CMs_b0VXJs",
        "colab": {
          "base_uri": "https://localhost:8080/"
        },
        "outputId": "309daeb3-798b-4e48-9515-218135f5e5f9"
      },
      "source": [
        "duplicates = apple.index.duplicated().sum()\n",
        "print(f\"Number of duplicate dates: {duplicates}\")"
      ],
      "execution_count": 44,
      "outputs": [
        {
          "output_type": "stream",
          "name": "stdout",
          "text": [
            "Number of duplicate dates: 0\n"
          ]
        }
      ]
    },
    {
      "cell_type": "markdown",
      "metadata": {
        "id": "hwzw_ul_VXJt"
      },
      "source": [
        "### Step 8.  Ops...it seems the index is from the most recent date. Make the first entry the oldest date."
      ]
    },
    {
      "cell_type": "code",
      "metadata": {
        "id": "4-JjpkhjVXJv",
        "colab": {
          "base_uri": "https://localhost:8080/"
        },
        "outputId": "94b27bb0-c23f-420d-a6b5-1ff406851fea"
      },
      "source": [
        "apple.sort_index(inplace=True)\n",
        "print(apple.head())\n",
        "print(apple.tail())"
      ],
      "execution_count": 48,
      "outputs": [
        {
          "output_type": "stream",
          "name": "stdout",
          "text": [
            "             Open   High    Low  Close     Volume  Adj Close\n",
            "Date                                                        \n",
            "1980-12-12  28.75  28.87  28.75  28.75  117258400       0.45\n",
            "1980-12-15  27.38  27.38  27.25  27.25   43971200       0.42\n",
            "1980-12-16  25.37  25.37  25.25  25.25   26432000       0.39\n",
            "1980-12-17  25.87  26.00  25.87  25.87   21610400       0.40\n",
            "1980-12-18  26.63  26.75  26.63  26.63   18362400       0.41\n",
            "             Open   High    Low  Close    Volume  Adj Close\n",
            "Date                                                       \n",
            "2014-07-01  93.52  94.07  93.13  93.52  38170200      93.52\n",
            "2014-07-02  93.87  94.06  93.09  93.48  28420900      93.48\n",
            "2014-07-03  93.67  94.10  93.20  94.03  22891800      94.03\n",
            "2014-07-07  94.14  95.99  94.10  95.97  56305400      95.97\n",
            "2014-07-08  96.27  96.80  93.92  95.35  65130000      95.35\n"
          ]
        }
      ]
    },
    {
      "cell_type": "markdown",
      "metadata": {
        "id": "eRY2W2hfVXJv"
      },
      "source": [
        "### Step 9. Get the last business day of each month"
      ]
    },
    {
      "cell_type": "code",
      "metadata": {
        "id": "APU643vIVXJx",
        "colab": {
          "base_uri": "https://localhost:8080/"
        },
        "outputId": "f9475f4d-d969-4934-b51d-9cca5cb937ec"
      },
      "source": [
        "apple_last_bd = apple.resample('BM').last()\n",
        "print(apple_last_bd)"
      ],
      "execution_count": 55,
      "outputs": [
        {
          "output_type": "stream",
          "name": "stdout",
          "text": [
            "              Open    High     Low   Close     Volume  Adj Close\n",
            "Date                                                            \n",
            "1980-12-31   34.25   34.25   34.13   34.13    8937600       0.53\n",
            "1981-01-30   28.50   28.50   28.25   28.25   11547200       0.44\n",
            "1981-02-27   26.50   26.75   26.50   26.50    3690400       0.41\n",
            "1981-03-31   24.75   24.75   24.50   24.50    3998400       0.38\n",
            "1981-04-30   28.38   28.62   28.38   28.38    3152800       0.44\n",
            "...            ...     ...     ...     ...        ...        ...\n",
            "2014-03-31  539.23  540.81  535.93  536.74   42167300      76.25\n",
            "2014-04-30  592.64  599.43  589.80  590.09  114160200      83.83\n",
            "2014-05-30  637.98  644.17  628.90  633.00  141005200      90.43\n",
            "2014-06-30   92.10   93.73   92.09   92.93   49482300      92.93\n",
            "2014-07-31   96.27   96.80   93.92   95.35   65130000      95.35\n",
            "\n",
            "[404 rows x 6 columns]\n"
          ]
        },
        {
          "output_type": "stream",
          "name": "stderr",
          "text": [
            "/tmp/ipython-input-3005681802.py:1: FutureWarning: 'BM' is deprecated and will be removed in a future version, please use 'BME' instead.\n",
            "  apple_last_bd = apple.resample('BM').last()\n"
          ]
        }
      ]
    },
    {
      "cell_type": "markdown",
      "metadata": {
        "id": "a9O6hmadVXJy"
      },
      "source": [
        "### Step 10.  What is the difference in days between the first day and the oldest"
      ]
    },
    {
      "cell_type": "code",
      "metadata": {
        "id": "HMGS16w9VXJy",
        "colab": {
          "base_uri": "https://localhost:8080/"
        },
        "outputId": "09698640-4716-4561-a8f2-6827fd93af27"
      },
      "source": [
        "first_day = apple.index.min()\n",
        "last_day  = apple.index.max()\n",
        "diff_days = (last_day - first_day).days\n",
        "print(\"Difference in days:\", diff_days)"
      ],
      "execution_count": 51,
      "outputs": [
        {
          "output_type": "stream",
          "name": "stdout",
          "text": [
            "Difference in days: 12261\n"
          ]
        }
      ]
    },
    {
      "cell_type": "markdown",
      "metadata": {
        "id": "Ey0zVGV5VXJz"
      },
      "source": [
        "### Step 11.  How many months in the data we have?"
      ]
    },
    {
      "cell_type": "code",
      "metadata": {
        "id": "Pxkdp6j-VXJz",
        "colab": {
          "base_uri": "https://localhost:8080/"
        },
        "outputId": "7fbba394-61ca-4f7e-911b-6e28cea71345"
      },
      "source": [
        "n_months = apple.index.to_period('M').nunique()\n",
        "print(\"Number of months in the dataset:\", n_months)"
      ],
      "execution_count": 52,
      "outputs": [
        {
          "output_type": "stream",
          "name": "stdout",
          "text": [
            "Number of months in the dataset: 404\n"
          ]
        }
      ]
    },
    {
      "cell_type": "markdown",
      "metadata": {
        "id": "zXIBNkMFVXJ0"
      },
      "source": [
        "### Step 12. Plot the 'Adj Close' value. Set the size of the figure to 13.5 x 9 inches"
      ]
    },
    {
      "cell_type": "code",
      "metadata": {
        "id": "bvsp15_IVXJ1",
        "colab": {
          "base_uri": "https://localhost:8080/",
          "height": 795
        },
        "outputId": "7199c8c0-163b-45d7-a6ed-5f69c756da0a"
      },
      "source": [
        "import matplotlib.pyplot as plt\n",
        "\n",
        "# Plot Adj Close\n",
        "plt.figure(figsize=(13.5, 9))\n",
        "plt.plot(apple['Adj Close'], label='Adj Close', color='green')\n",
        "\n",
        "plt.title('Apple Stock - Adjusted Close Price (1980–2014)')\n",
        "plt.xlabel('Date')\n",
        "plt.ylabel('Adjusted Close Price (USD)')\n",
        "plt.legend()\n",
        "plt.grid(True)\n",
        "\n",
        "plt.show()"
      ],
      "execution_count": 53,
      "outputs": [
        {
          "output_type": "display_data",
          "data": {
            "text/plain": [
              "<Figure size 1350x900 with 1 Axes>"
            ],
            "image/png": "[encoded data removed]"
          },
          "metadata": {}
        }
      ]
    }
  ]
}